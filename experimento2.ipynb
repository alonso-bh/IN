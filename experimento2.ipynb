{
 "cells": [
  {
   "cell_type": "code",
   "execution_count": 1,
   "id": "polish-peripheral",
   "metadata": {},
   "outputs": [],
   "source": [
    "import numpy as np\n",
    "import pandas as pd\n",
    "import matplotlib.pyplot as plt"
   ]
  },
  {
   "cell_type": "code",
   "execution_count": 2,
   "id": "radical-welsh",
   "metadata": {},
   "outputs": [],
   "source": [
    "# para la validación cruzada\n",
    "import math as mt\n",
    "def average(numbers):\n",
    "    \"\"\"\n",
    "    Calcula la media aritmética simple\n",
    "    \"\"\"\n",
    "    try:\n",
    "        return float(sum(numbers)) / max(len(numbers), 1)\n",
    "    except ZeroDivisionError:\n",
    "        return 0"
   ]
  },
  {
   "cell_type": "code",
   "execution_count": 3,
   "id": "departmental-constitutional",
   "metadata": {},
   "outputs": [],
   "source": [
    "from tensorflow.keras.datasets import fashion_mnist"
   ]
  },
  {
   "cell_type": "code",
   "execution_count": 4,
   "id": "colored-mapping",
   "metadata": {},
   "outputs": [],
   "source": [
    "(x_train, y_train), (x_test, y_test) = fashion_mnist.load_data()"
   ]
  },
  {
   "cell_type": "code",
   "execution_count": 5,
   "id": "overhead-drain",
   "metadata": {},
   "outputs": [
    {
     "name": "stdout",
     "output_type": "stream",
     "text": [
      "(60000, 28, 28)\n",
      "(10000, 28, 28)\n"
     ]
    }
   ],
   "source": [
    "print(x_train.shape)\n",
    "print(x_test.shape)"
   ]
  },
  {
   "cell_type": "code",
   "execution_count": 6,
   "id": "qualified-panel",
   "metadata": {},
   "outputs": [
    {
     "data": {
      "text/plain": [
       "9"
      ]
     },
     "execution_count": 6,
     "metadata": {},
     "output_type": "execute_result"
    }
   ],
   "source": [
    "y_test[0]"
   ]
  },
  {
   "cell_type": "code",
   "execution_count": 7,
   "id": "stylish-venture",
   "metadata": {},
   "outputs": [],
   "source": [
    "%matplotlib inline"
   ]
  },
  {
   "cell_type": "code",
   "execution_count": 8,
   "id": "greater-pilot",
   "metadata": {},
   "outputs": [
    {
     "name": "stdout",
     "output_type": "stream",
     "text": [
      "9\n"
     ]
    },
    {
     "data": {
      "image/png": "[encoded data removed]",
      "text/plain": [
       "<Figure size 432x288 with 1 Axes>"
      ]
     },
     "metadata": {
      "needs_background": "light"
     },
     "output_type": "display_data"
    }
   ],
   "source": [
    "import matplotlib.pyplot as plt\n",
    "\n",
    "image_index = 0\n",
    "print(y_train[image_index])\n",
    "plt.imshow(x_train[image_index], cmap='Greys')\n",
    "plt.show()"
   ]
  },
  {
   "cell_type": "markdown",
   "id": "neutral-formation",
   "metadata": {},
   "source": [
    "Normalizar los píxeles de las imágenes"
   ]
  },
  {
   "cell_type": "code",
   "execution_count": 9,
   "id": "fifty-reverse",
   "metadata": {},
   "outputs": [],
   "source": [
    "img_rows, img_cols = 28, 28\n",
    "\n",
    "\n",
    "x_train = x_train.reshape(x_train.shape[0], img_rows, img_cols, 1)\n",
    "x_test = x_test.reshape(x_test.shape[0], img_rows, img_cols, 1)\n",
    "\n",
    "x_train , x_test = x_train/255.0 , x_test/255.0"
   ]
  },
  {
   "cell_type": "code",
   "execution_count": 11,
   "id": "cloudy-dominant",
   "metadata": {},
   "outputs": [
    {
     "data": {
      "text/plain": [
       "(60000, 28, 28, 1)"
      ]
     },
     "execution_count": 11,
     "metadata": {},
     "output_type": "execute_result"
    }
   ],
   "source": [
    "x_train.shape"
   ]
  },
  {
   "cell_type": "code",
   "execution_count": 11,
   "id": "promising-print",
   "metadata": {},
   "outputs": [
    {
     "data": {
      "text/plain": [
       "60000.0"
      ]
     },
     "execution_count": 11,
     "metadata": {},
     "output_type": "execute_result"
    }
   ],
   "source": [
    "x_train.size/784"
   ]
  },
  {
   "cell_type": "code",
   "execution_count": 12,
   "id": "orange-mississippi",
   "metadata": {},
   "outputs": [],
   "source": [
    "class_names = ['T-shirt/top', 'Trouser', 'Pullover', 'Dress', 'Coat',\n",
    "               'Sandal', 'Shirt', 'Sneaker', 'Bag', 'Ankle boot']"
   ]
  },
  {
   "cell_type": "markdown",
   "id": "blind-agent",
   "metadata": {},
   "source": [
    "Convertimos en valores booleanos la característica a predecir (necesario )"
   ]
  },
  {
   "cell_type": "code",
   "execution_count": 13,
   "id": "searching-quest",
   "metadata": {},
   "outputs": [],
   "source": [
    "from keras.utils import to_categorical\n",
    "num_classes = 10\n",
    "\n",
    "y_train = to_categorical(y_train, num_classes)\n",
    "y_test = to_categorical(y_test, num_classes)"
   ]
  },
  {
   "cell_type": "markdown",
   "id": "friendly-absence",
   "metadata": {},
   "source": [
    "# Diseñando el modelo\n",
    "Ahora hay que diseñar la arquitectura del modelo de CNN que vamos a utilizar. "
   ]
  },
  {
   "cell_type": "code",
   "execution_count": 14,
   "id": "operational-communication",
   "metadata": {},
   "outputs": [],
   "source": [
    "batch_size     = 10  \n",
    "n_classes      = 10\n",
    "n_epochs       = 50  \n",
    "img_rows, img_cols = 28,28\n",
    "n_filters      = 32\n",
    "\n",
    "# para la validación cruzada\n",
    "from keras.callbacks import EarlyStopping, ModelCheckpoint\n",
    "callbacks = [   \n",
    "    EarlyStopping(\n",
    "        monitor='val_accuracy',\n",
    "        patience=10,\n",
    "        mode='max',\n",
    "        verbose=1),\n",
    "    ModelCheckpoint(\n",
    "        './model2',\n",
    "        monitor='val_accuracy',\n",
    "        save_best_only=True,\n",
    "        mode='max',\n",
    "        verbose=0)\n",
    "]"
   ]
  },
  {
   "cell_type": "code",
   "execution_count": 15,
   "id": "supreme-hierarchy",
   "metadata": {},
   "outputs": [],
   "source": [
    "from keras.models import Sequential\n",
    "from keras.layers import Dense, Dropout, Flatten, Conv2D, MaxPooling2D"
   ]
  },
  {
   "cell_type": "code",
   "execution_count": 16,
   "id": "naked-chapel",
   "metadata": {},
   "outputs": [],
   "source": [
    "model = Sequential()\n",
    "\n",
    "model.add(Conv2D(32, kernel_size=(3, 3), activation='relu', input_shape=(img_rows, img_cols, 1)))\n",
    "model.add(MaxPooling2D(pool_size=(2, 2)))\n",
    "\n",
    "model.add(Conv2D(64, (3, 3), activation='relu'))\n",
    "model.add(MaxPooling2D(pool_size=(2, 2)))\n",
    "\n",
    "model.add(Dropout(0.25))\n",
    "\n",
    "model.add(Flatten())\n",
    "\n",
    "model.add(Dense(128, activation='relu'))  # suele añadirse (tradicion en cnn)\n",
    "model.add(Dropout(0.5))\n",
    "model.add(Dense(n_classes, activation='softmax'))"
   ]
  },
  {
   "cell_type": "code",
   "execution_count": 17,
   "id": "pregnant-discount",
   "metadata": {},
   "outputs": [
    {
     "name": "stdout",
     "output_type": "stream",
     "text": [
      "Model: \"sequential\"\n",
      "_________________________________________________________________\n",
      "Layer (type)                 Output Shape              Param #   \n",
      "=================================================================\n",
      "conv2d (Conv2D)              (None, 26, 26, 32)        320       \n",
      "_________________________________________________________________\n",
      "max_pooling2d (MaxPooling2D) (None, 13, 13, 32)        0         \n",
      "_________________________________________________________________\n",
      "conv2d_1 (Conv2D)            (None, 11, 11, 64)        18496     \n",
      "_________________________________________________________________\n",
      "max_pooling2d_1 (MaxPooling2 (None, 5, 5, 64)          0         \n",
      "_________________________________________________________________\n",
      "dropout (Dropout)            (None, 5, 5, 64)          0         \n",
      "_________________________________________________________________\n",
      "flatten (Flatten)            (None, 1600)              0         \n",
      "_________________________________________________________________\n",
      "dense (Dense)                (None, 128)               204928    \n",
      "_________________________________________________________________\n",
      "dropout_1 (Dropout)          (None, 128)               0         \n",
      "_________________________________________________________________\n",
      "dense_1 (Dense)              (None, 10)                1290      \n",
      "=================================================================\n",
      "Total params: 225,034\n",
      "Trainable params: 225,034\n",
      "Non-trainable params: 0\n",
      "_________________________________________________________________\n"
     ]
    }
   ],
   "source": [
    "model.summary()"
   ]
  },
  {
   "cell_type": "markdown",
   "id": "joined-investigator",
   "metadata": {},
   "source": [
    "Compilar el modelo"
   ]
  },
  {
   "cell_type": "code",
   "execution_count": 18,
   "id": "bigger-fault",
   "metadata": {},
   "outputs": [],
   "source": [
    "model.compile(loss='categorical_crossentropy', optimizer='adam', metrics=['accuracy'])"
   ]
  },
  {
   "cell_type": "markdown",
   "id": "confirmed-ordinance",
   "metadata": {},
   "source": [
    "Entrenar el modelo"
   ]
  },
  {
   "cell_type": "code",
   "execution_count": 19,
   "id": "characteristic-dubai",
   "metadata": {
    "collapsed": true
   },
   "outputs": [
    {
     "name": "stdout",
     "output_type": "stream",
     "text": [
      "\n",
      " Fold 0\n",
      "Epoch 1/50\n",
      "4800/4800 - 39s - loss: 0.5593 - accuracy: 0.7974 - val_loss: 0.3499 - val_accuracy: 0.8697\n",
      "INFO:tensorflow:Assets written to: .\\model2\\assets\n",
      "Epoch 2/50\n",
      "4800/4800 - 42s - loss: 0.3933 - accuracy: 0.8587 - val_loss: 0.3209 - val_accuracy: 0.8788\n",
      "INFO:tensorflow:Assets written to: .\\model2\\assets\n",
      "Epoch 3/50\n",
      "4800/4800 - 41s - loss: 0.3551 - accuracy: 0.8708 - val_loss: 0.2774 - val_accuracy: 0.8952\n",
      "INFO:tensorflow:Assets written to: .\\model2\\assets\n",
      "Epoch 4/50\n",
      "4800/4800 - 44s - loss: 0.3258 - accuracy: 0.8809 - val_loss: 0.2690 - val_accuracy: 0.9008\n",
      "INFO:tensorflow:Assets written to: .\\model2\\assets\n",
      "Epoch 5/50\n",
      "4800/4800 - 44s - loss: 0.3088 - accuracy: 0.8866 - val_loss: 0.2703 - val_accuracy: 0.8988\n",
      "Epoch 6/50\n",
      "4800/4800 - 43s - loss: 0.2971 - accuracy: 0.8901 - val_loss: 0.2552 - val_accuracy: 0.9072\n",
      "INFO:tensorflow:Assets written to: .\\model2\\assets\n",
      "Epoch 7/50\n",
      "4800/4800 - 43s - loss: 0.2875 - accuracy: 0.8941 - val_loss: 0.2570 - val_accuracy: 0.9071\n",
      "Epoch 8/50\n",
      "4800/4800 - 43s - loss: 0.2784 - accuracy: 0.8965 - val_loss: 0.2486 - val_accuracy: 0.9066\n",
      "Epoch 9/50\n",
      "4800/4800 - 43s - loss: 0.2735 - accuracy: 0.8993 - val_loss: 0.2442 - val_accuracy: 0.9101\n",
      "INFO:tensorflow:Assets written to: .\\model2\\assets\n",
      "Epoch 10/50\n",
      "4800/4800 - 39s - loss: 0.2619 - accuracy: 0.9024 - val_loss: 0.2481 - val_accuracy: 0.9107\n",
      "INFO:tensorflow:Assets written to: .\\model2\\assets\n",
      "Epoch 11/50\n",
      "4800/4800 - 40s - loss: 0.2568 - accuracy: 0.9042 - val_loss: 0.2510 - val_accuracy: 0.9130\n",
      "INFO:tensorflow:Assets written to: .\\model2\\assets\n",
      "Epoch 12/50\n",
      "4800/4800 - 41s - loss: 0.2536 - accuracy: 0.9068 - val_loss: 0.2575 - val_accuracy: 0.9076\n",
      "Epoch 13/50\n",
      "4800/4800 - 40s - loss: 0.2484 - accuracy: 0.9084 - val_loss: 0.2540 - val_accuracy: 0.9107\n",
      "Epoch 14/50\n",
      "4800/4800 - 40s - loss: 0.2418 - accuracy: 0.9090 - val_loss: 0.2569 - val_accuracy: 0.9092\n",
      "Epoch 15/50\n",
      "4800/4800 - 41s - loss: 0.2411 - accuracy: 0.9110 - val_loss: 0.2517 - val_accuracy: 0.9111\n",
      "Epoch 16/50\n",
      "4800/4800 - 41s - loss: 0.2392 - accuracy: 0.9107 - val_loss: 0.2531 - val_accuracy: 0.9082\n",
      "Epoch 17/50\n",
      "4800/4800 - 42s - loss: 0.2388 - accuracy: 0.9116 - val_loss: 0.2555 - val_accuracy: 0.9127\n",
      "Epoch 18/50\n",
      "4800/4800 - 39s - loss: 0.2327 - accuracy: 0.9145 - val_loss: 0.2515 - val_accuracy: 0.9140\n",
      "INFO:tensorflow:Assets written to: .\\model2\\assets\n",
      "Epoch 19/50\n",
      "4800/4800 - 42s - loss: 0.2272 - accuracy: 0.9155 - val_loss: 0.2552 - val_accuracy: 0.9138\n",
      "Epoch 20/50\n",
      "4800/4800 - 42s - loss: 0.2251 - accuracy: 0.9165 - val_loss: 0.2549 - val_accuracy: 0.9110\n",
      "Epoch 21/50\n",
      "4800/4800 - 41s - loss: 0.2221 - accuracy: 0.9170 - val_loss: 0.2564 - val_accuracy: 0.9168\n",
      "INFO:tensorflow:Assets written to: .\\model2\\assets\n",
      "Epoch 22/50\n",
      "4800/4800 - 38s - loss: 0.2205 - accuracy: 0.9184 - val_loss: 0.2575 - val_accuracy: 0.9112\n",
      "Epoch 23/50\n",
      "4800/4800 - 38s - loss: 0.2211 - accuracy: 0.9179 - val_loss: 0.2451 - val_accuracy: 0.9156\n",
      "Epoch 24/50\n",
      "4800/4800 - 41s - loss: 0.2179 - accuracy: 0.9195 - val_loss: 0.2669 - val_accuracy: 0.9099\n",
      "Epoch 25/50\n",
      "4800/4800 - 39s - loss: 0.2184 - accuracy: 0.9185 - val_loss: 0.2724 - val_accuracy: 0.9112\n",
      "Epoch 26/50\n",
      "4800/4800 - 40s - loss: 0.2161 - accuracy: 0.9195 - val_loss: 0.2538 - val_accuracy: 0.9138\n",
      "Epoch 27/50\n",
      "4800/4800 - 40s - loss: 0.2099 - accuracy: 0.9211 - val_loss: 0.2673 - val_accuracy: 0.9137\n",
      "Epoch 28/50\n",
      "4800/4800 - 40s - loss: 0.2077 - accuracy: 0.9227 - val_loss: 0.2565 - val_accuracy: 0.9140\n",
      "Epoch 29/50\n",
      "4800/4800 - 40s - loss: 0.2106 - accuracy: 0.9223 - val_loss: 0.2830 - val_accuracy: 0.9100\n",
      "Epoch 30/50\n",
      "4800/4800 - 38s - loss: 0.2109 - accuracy: 0.9224 - val_loss: 0.2581 - val_accuracy: 0.9147\n",
      "Epoch 31/50\n",
      "4800/4800 - 40s - loss: 0.2071 - accuracy: 0.9235 - val_loss: 0.2695 - val_accuracy: 0.9107\n",
      "Epoch 00031: early stopping\n",
      "Fold 0: Accuracy 91.07%\n",
      "\n",
      " Fold 1\n",
      "Epoch 1/50\n",
      "4800/4800 - 41s - loss: 0.2547 - accuracy: 0.9104 - val_loss: 0.1425 - val_accuracy: 0.9512\n",
      "INFO:tensorflow:Assets written to: .\\model2\\assets\n",
      "Epoch 2/50\n",
      "4800/4800 - 41s - loss: 0.2394 - accuracy: 0.9138 - val_loss: 0.1369 - val_accuracy: 0.9476\n",
      "Epoch 3/50\n",
      "4800/4800 - 40s - loss: 0.2369 - accuracy: 0.9149 - val_loss: 0.1489 - val_accuracy: 0.9398\n",
      "Epoch 4/50\n",
      "4800/4800 - 39s - loss: 0.2360 - accuracy: 0.9141 - val_loss: 0.1426 - val_accuracy: 0.9467\n",
      "Epoch 5/50\n",
      "4800/4800 - 37s - loss: 0.2260 - accuracy: 0.9160 - val_loss: 0.1409 - val_accuracy: 0.9462\n",
      "Epoch 6/50\n",
      "4800/4800 - 40s - loss: 0.2253 - accuracy: 0.9181 - val_loss: 0.1556 - val_accuracy: 0.9396\n",
      "Epoch 7/50\n",
      "4800/4800 - 38s - loss: 0.2180 - accuracy: 0.9201 - val_loss: 0.1518 - val_accuracy: 0.9427\n",
      "Epoch 8/50\n",
      "4800/4800 - 40s - loss: 0.2186 - accuracy: 0.9193 - val_loss: 0.1565 - val_accuracy: 0.9412\n",
      "Epoch 9/50\n",
      "4800/4800 - 41s - loss: 0.2140 - accuracy: 0.9210 - val_loss: 0.1606 - val_accuracy: 0.9391\n",
      "Epoch 10/50\n",
      "4800/4800 - 41s - loss: 0.2130 - accuracy: 0.9220 - val_loss: 0.1625 - val_accuracy: 0.9377\n",
      "Epoch 11/50\n",
      "4800/4800 - 42s - loss: 0.2162 - accuracy: 0.9208 - val_loss: 0.1712 - val_accuracy: 0.9350\n",
      "Epoch 00011: early stopping\n",
      "Fold 1: Accuracy 93.50%\n",
      "\n",
      " Fold 2\n",
      "Epoch 1/50\n",
      "4800/4800 - 43s - loss: 0.2281 - accuracy: 0.9160 - val_loss: 0.1233 - val_accuracy: 0.9557\n",
      "INFO:tensorflow:Assets written to: .\\model2\\assets\n",
      "Epoch 2/50\n",
      "4800/4800 - 41s - loss: 0.2210 - accuracy: 0.9182 - val_loss: 0.1272 - val_accuracy: 0.9523\n",
      "Epoch 3/50\n",
      "4800/4800 - 34s - loss: 0.2189 - accuracy: 0.9197 - val_loss: 0.1522 - val_accuracy: 0.9440\n",
      "Epoch 4/50\n",
      "4800/4800 - 31s - loss: 0.2162 - accuracy: 0.9207 - val_loss: 0.1298 - val_accuracy: 0.9501\n",
      "Epoch 5/50\n",
      "4800/4800 - 31s - loss: 0.2162 - accuracy: 0.9210 - val_loss: 0.1384 - val_accuracy: 0.9458\n",
      "Epoch 6/50\n",
      "4800/4800 - 31s - loss: 0.2166 - accuracy: 0.9214 - val_loss: 0.1386 - val_accuracy: 0.9468\n",
      "Epoch 7/50\n",
      "4800/4800 - 39s - loss: 0.2116 - accuracy: 0.9216 - val_loss: 0.1392 - val_accuracy: 0.9471\n",
      "Epoch 8/50\n",
      "4800/4800 - 48s - loss: 0.2069 - accuracy: 0.9232 - val_loss: 0.1336 - val_accuracy: 0.9517\n",
      "Epoch 9/50\n",
      "4800/4800 - 45s - loss: 0.2076 - accuracy: 0.9236 - val_loss: 0.1547 - val_accuracy: 0.9427\n",
      "Epoch 10/50\n",
      "4800/4800 - 46s - loss: 0.2115 - accuracy: 0.9246 - val_loss: 0.1472 - val_accuracy: 0.9431\n",
      "Epoch 11/50\n",
      "4800/4800 - 45s - loss: 0.2051 - accuracy: 0.9243 - val_loss: 0.1527 - val_accuracy: 0.9435\n",
      "Epoch 00011: early stopping\n",
      "Fold 2: Accuracy 94.35%\n",
      "\n",
      " Fold 3\n",
      "Epoch 1/50\n",
      "4800/4800 - 46s - loss: 0.2213 - accuracy: 0.9215 - val_loss: 0.1250 - val_accuracy: 0.9520\n",
      "Epoch 2/50\n",
      "4800/4800 - 45s - loss: 0.2166 - accuracy: 0.9215 - val_loss: 0.1253 - val_accuracy: 0.9559\n",
      "INFO:tensorflow:Assets written to: .\\model2\\assets\n",
      "Epoch 3/50\n",
      "4800/4800 - 47s - loss: 0.2071 - accuracy: 0.9241 - val_loss: 0.1328 - val_accuracy: 0.9510\n",
      "Epoch 4/50\n",
      "4800/4800 - 44s - loss: 0.2091 - accuracy: 0.9235 - val_loss: 0.1432 - val_accuracy: 0.9482\n",
      "Epoch 5/50\n",
      "4800/4800 - 46s - loss: 0.2086 - accuracy: 0.9246 - val_loss: 0.1936 - val_accuracy: 0.9224\n",
      "Epoch 6/50\n",
      "4800/4800 - 46s - loss: 0.2049 - accuracy: 0.9248 - val_loss: 0.1460 - val_accuracy: 0.9465\n",
      "Epoch 7/50\n",
      "4800/4800 - 44s - loss: 0.2076 - accuracy: 0.9241 - val_loss: 0.1572 - val_accuracy: 0.9408\n",
      "Epoch 8/50\n",
      "4800/4800 - 45s - loss: 0.2041 - accuracy: 0.9246 - val_loss: 0.1520 - val_accuracy: 0.9412\n",
      "Epoch 9/50\n",
      "4800/4800 - 46s - loss: 0.1996 - accuracy: 0.9286 - val_loss: 0.1627 - val_accuracy: 0.9412\n",
      "Epoch 10/50\n",
      "4800/4800 - 45s - loss: 0.2005 - accuracy: 0.9276 - val_loss: 0.1456 - val_accuracy: 0.9454\n",
      "Epoch 11/50\n",
      "4800/4800 - 45s - loss: 0.2005 - accuracy: 0.9282 - val_loss: 0.1527 - val_accuracy: 0.9430\n",
      "Epoch 12/50\n",
      "4800/4800 - 47s - loss: 0.2024 - accuracy: 0.9269 - val_loss: 0.1559 - val_accuracy: 0.9426\n",
      "Epoch 00012: early stopping\n",
      "Fold 3: Accuracy 94.26%\n",
      "\n",
      " Fold 4\n",
      "Epoch 1/50\n",
      "4800/4800 - 47s - loss: 0.2191 - accuracy: 0.9211 - val_loss: 0.1120 - val_accuracy: 0.9576\n",
      "INFO:tensorflow:Assets written to: .\\model2\\assets\n",
      "Epoch 2/50\n",
      "4800/4800 - 45s - loss: 0.2096 - accuracy: 0.9248 - val_loss: 0.1200 - val_accuracy: 0.9543\n",
      "Epoch 3/50\n",
      "4800/4800 - 48s - loss: 0.2077 - accuracy: 0.9235 - val_loss: 0.1381 - val_accuracy: 0.9486\n",
      "Epoch 4/50\n",
      "4800/4800 - 46s - loss: 0.2103 - accuracy: 0.9246 - val_loss: 0.1405 - val_accuracy: 0.9491\n",
      "Epoch 5/50\n",
      "4800/4800 - 45s - loss: 0.2104 - accuracy: 0.9252 - val_loss: 0.1349 - val_accuracy: 0.9517\n"
     ]
    },
    {
     "name": "stdout",
     "output_type": "stream",
     "text": [
      "Epoch 6/50\n",
      "4800/4800 - 44s - loss: 0.2093 - accuracy: 0.9249 - val_loss: 0.1559 - val_accuracy: 0.9443\n",
      "Epoch 7/50\n",
      "4800/4800 - 45s - loss: 0.2016 - accuracy: 0.9284 - val_loss: 0.1266 - val_accuracy: 0.9546\n",
      "Epoch 8/50\n",
      "4800/4800 - 46s - loss: 0.2048 - accuracy: 0.9265 - val_loss: 0.1378 - val_accuracy: 0.9473\n",
      "Epoch 9/50\n",
      "4800/4800 - 45s - loss: 0.2066 - accuracy: 0.9265 - val_loss: 0.1332 - val_accuracy: 0.9501\n",
      "Epoch 10/50\n",
      "4800/4800 - 45s - loss: 0.2031 - accuracy: 0.9278 - val_loss: 0.1506 - val_accuracy: 0.9443\n",
      "Epoch 11/50\n",
      "4800/4800 - 45s - loss: 0.2010 - accuracy: 0.9288 - val_loss: 0.1387 - val_accuracy: 0.9482\n",
      "Epoch 00011: early stopping\n",
      "Fold 4: Accuracy 94.82%\n",
      "Accuracy scores:  [0.9106666445732117, 0.9350000023841858, 0.9434999823570251, 0.9425833225250244, 0.9482499957084656]\n"
     ]
    },
    {
     "ename": "NameError",
     "evalue": "name 'sum_of_square_deviation' is not defined",
     "output_type": "error",
     "traceback": [
      "\u001b[1;31m---------------------------------------------------------------------------\u001b[0m",
      "\u001b[1;31mNameError\u001b[0m                                 Traceback (most recent call last)",
      "\u001b[1;32m<ipython-input-19-db3021629563>\u001b[0m in \u001b[0;36m<module>\u001b[1;34m\u001b[0m\n\u001b[0;32m     33\u001b[0m \u001b[1;33m\u001b[0m\u001b[0m\n\u001b[0;32m     34\u001b[0m \u001b[0mmean_acc\u001b[0m \u001b[1;33m=\u001b[0m \u001b[0maverage\u001b[0m\u001b[1;33m(\u001b[0m\u001b[0macc_scores\u001b[0m\u001b[1;33m)\u001b[0m\u001b[1;33m\u001b[0m\u001b[1;33m\u001b[0m\u001b[0m\n\u001b[1;32m---> 35\u001b[1;33m \u001b[0mstandard_deviation_acc\u001b[0m \u001b[1;33m=\u001b[0m \u001b[0mmt\u001b[0m\u001b[1;33m.\u001b[0m\u001b[0msqrt\u001b[0m\u001b[1;33m(\u001b[0m\u001b[0msum_of_square_deviation\u001b[0m\u001b[1;33m(\u001b[0m\u001b[0macc_scores\u001b[0m\u001b[1;33m,\u001b[0m \u001b[0mmean_acc\u001b[0m\u001b[1;33m)\u001b[0m\u001b[1;33m)\u001b[0m\u001b[1;33m\u001b[0m\u001b[1;33m\u001b[0m\u001b[0m\n\u001b[0m\u001b[0;32m     36\u001b[0m \u001b[1;33m\u001b[0m\u001b[0m\n\u001b[0;32m     37\u001b[0m \u001b[0mprint\u001b[0m\u001b[1;33m(\u001b[0m\u001b[1;34m'====================='\u001b[0m\u001b[1;33m)\u001b[0m\u001b[1;33m\u001b[0m\u001b[1;33m\u001b[0m\u001b[0m\n",
      "\u001b[1;31mNameError\u001b[0m: name 'sum_of_square_deviation' is not defined"
     ]
    }
   ],
   "source": [
    "from sklearn.model_selection import KFold\n",
    "seed = 7\n",
    "np.random.seed(seed)\n",
    "kf = KFold(n_splits=5, shuffle=True)\n",
    "kf.get_n_splits(x_train)\n",
    "\n",
    "acc_scores = list()\n",
    "\n",
    "for fold, (train_index, test_index) in enumerate(kf.split(x_train)):\n",
    "    print('\\n Fold %d' % (fold))\n",
    "\n",
    "    x_tr, x_v = x_train[train_index], x_train[test_index]\n",
    "    y_tr, y_v = y_train[train_index], y_train[test_index]\n",
    "\n",
    "    model.fit(\n",
    "        x_tr,\n",
    "        y_tr,\n",
    "        epochs=n_epochs,\n",
    "        validation_data=(x_v, y_v),\n",
    "        verbose=2,\n",
    "        batch_size=batch_size,\n",
    "        callbacks=callbacks,\n",
    "        shuffle=True\n",
    "    )\n",
    "\n",
    "    acc = model.evaluate(x_v, y_v, verbose=0)\n",
    "    acc_scores.append(acc[1])\n",
    "\n",
    "    print('Fold %d: Accuracy %.2f%%' % (fold, acc[1] * 100))\n",
    "\n",
    "print('Accuracy scores: ', acc_scores)\n",
    "\n",
    "mean_acc = average(acc_scores)\n",
    "standard_deviation_acc = mt.sqrt(sum_of_square_deviation(acc_scores, mean_acc))"
   ]
  },
  {
   "cell_type": "code",
   "execution_count": 21,
   "id": "fluid-victim",
   "metadata": {},
   "outputs": [
    {
     "data": {
      "text/plain": [
       "0.9359999895095825"
      ]
     },
     "execution_count": 21,
     "metadata": {},
     "output_type": "execute_result"
    }
   ],
   "source": [
    "mean_acc = average(acc_scores)\n",
    "mean_acc"
   ]
  },
  {
   "cell_type": "code",
   "execution_count": 22,
   "id": "absent-bangladesh",
   "metadata": {},
   "outputs": [
    {
     "name": "stdout",
     "output_type": "stream",
     "text": [
      "Epoch 1/50\n",
      "6000/6000 [==============================] - 49s 8ms/step - loss: 0.2209 - accuracy: 0.9224 - val_loss: 0.2949 - val_accuracy: 0.9082\n",
      "Epoch 2/50\n",
      "6000/6000 [==============================] - 50s 8ms/step - loss: 0.2104 - accuracy: 0.9245 - val_loss: 0.3076 - val_accuracy: 0.9106\n",
      "Epoch 3/50\n",
      "6000/6000 [==============================] - 49s 8ms/step - loss: 0.2152 - accuracy: 0.9236 - val_loss: 0.3089 - val_accuracy: 0.9096\n",
      "Epoch 4/50\n",
      "6000/6000 [==============================] - 45s 8ms/step - loss: 0.2104 - accuracy: 0.9247 - val_loss: 0.3253 - val_accuracy: 0.9067\n",
      "Epoch 5/50\n",
      "6000/6000 [==============================] - 42s 7ms/step - loss: 0.2083 - accuracy: 0.9240 - val_loss: 0.3058 - val_accuracy: 0.9083\n",
      "Epoch 6/50\n",
      "6000/6000 [==============================] - 43s 7ms/step - loss: 0.2047 - accuracy: 0.9255 - val_loss: 0.2941 - val_accuracy: 0.9041\n",
      "Epoch 7/50\n",
      "6000/6000 [==============================] - 41s 7ms/step - loss: 0.2111 - accuracy: 0.9240 - val_loss: 0.3120 - val_accuracy: 0.9111\n",
      "Epoch 8/50\n",
      "6000/6000 [==============================] - 41s 7ms/step - loss: 0.2140 - accuracy: 0.9247 - val_loss: 0.3118 - val_accuracy: 0.9084\n",
      "Epoch 9/50\n",
      "6000/6000 [==============================] - 41s 7ms/step - loss: 0.2084 - accuracy: 0.9258 - val_loss: 0.3317 - val_accuracy: 0.9062\n",
      "Epoch 10/50\n",
      "6000/6000 [==============================] - 40s 7ms/step - loss: 0.2138 - accuracy: 0.9249 - val_loss: 0.3084 - val_accuracy: 0.9114\n",
      "Epoch 11/50\n",
      "6000/6000 [==============================] - 40s 7ms/step - loss: 0.2085 - accuracy: 0.9255 - val_loss: 0.3253 - val_accuracy: 0.9105\n",
      "Epoch 12/50\n",
      "6000/6000 [==============================] - 40s 7ms/step - loss: 0.2136 - accuracy: 0.9239 - val_loss: 0.3098 - val_accuracy: 0.9084\n",
      "Epoch 13/50\n",
      "6000/6000 [==============================] - 40s 7ms/step - loss: 0.2134 - accuracy: 0.9236 - val_loss: 0.3218 - val_accuracy: 0.9047\n",
      "Epoch 14/50\n",
      "6000/6000 [==============================] - 42s 7ms/step - loss: 0.2058 - accuracy: 0.9254 - val_loss: 0.3005 - val_accuracy: 0.9062\n",
      "Epoch 15/50\n",
      "6000/6000 [==============================] - 41s 7ms/step - loss: 0.2090 - accuracy: 0.9253 - val_loss: 0.3135 - val_accuracy: 0.9068\n",
      "Epoch 16/50\n",
      "6000/6000 [==============================] - 42s 7ms/step - loss: 0.2108 - accuracy: 0.9254 - val_loss: 0.3021 - val_accuracy: 0.9023\n",
      "Epoch 17/50\n",
      "6000/6000 [==============================] - 41s 7ms/step - loss: 0.2139 - accuracy: 0.9243 - val_loss: 0.3064 - val_accuracy: 0.9029\n",
      "Epoch 18/50\n",
      "6000/6000 [==============================] - 40s 7ms/step - loss: 0.2138 - accuracy: 0.9233 - val_loss: 0.3363 - val_accuracy: 0.9095\n",
      "Epoch 19/50\n",
      "6000/6000 [==============================] - 40s 7ms/step - loss: 0.2088 - accuracy: 0.9255 - val_loss: 0.2967 - val_accuracy: 0.9084\n",
      "Epoch 20/50\n",
      "6000/6000 [==============================] - 41s 7ms/step - loss: 0.2129 - accuracy: 0.9254 - val_loss: 0.3502 - val_accuracy: 0.9095\n",
      "Epoch 21/50\n",
      "6000/6000 [==============================] - 43s 7ms/step - loss: 0.2118 - accuracy: 0.9247 - val_loss: 0.3475 - val_accuracy: 0.9048\n",
      "Epoch 22/50\n",
      "6000/6000 [==============================] - 42s 7ms/step - loss: 0.2106 - accuracy: 0.9266 - val_loss: 0.3189 - val_accuracy: 0.9110\n",
      "Epoch 23/50\n",
      "6000/6000 [==============================] - 44s 7ms/step - loss: 0.2109 - accuracy: 0.9253 - val_loss: 0.3110 - val_accuracy: 0.9095\n",
      "Epoch 24/50\n",
      "6000/6000 [==============================] - 40s 7ms/step - loss: 0.2115 - accuracy: 0.9261 - val_loss: 0.3508 - val_accuracy: 0.9083\n",
      "Epoch 25/50\n",
      "6000/6000 [==============================] - 44s 7ms/step - loss: 0.2092 - accuracy: 0.9248 - val_loss: 0.3027 - val_accuracy: 0.9080\n",
      "Epoch 26/50\n",
      "6000/6000 [==============================] - 42s 7ms/step - loss: 0.2108 - accuracy: 0.9250 - val_loss: 0.2946 - val_accuracy: 0.9034\n",
      "Epoch 27/50\n",
      "6000/6000 [==============================] - 43s 7ms/step - loss: 0.2121 - accuracy: 0.9246 - val_loss: 0.3467 - val_accuracy: 0.9051\n",
      "Epoch 28/50\n",
      "6000/6000 [==============================] - 42s 7ms/step - loss: 0.2148 - accuracy: 0.9239 - val_loss: 0.3042 - val_accuracy: 0.9120\n",
      "Epoch 29/50\n",
      "6000/6000 [==============================] - 43s 7ms/step - loss: 0.2211 - accuracy: 0.9229 - val_loss: 0.3040 - val_accuracy: 0.9048\n",
      "Epoch 30/50\n",
      "6000/6000 [==============================] - 41s 7ms/step - loss: 0.2144 - accuracy: 0.9228 - val_loss: 0.3195 - val_accuracy: 0.9070\n",
      "Epoch 31/50\n",
      "6000/6000 [==============================] - 43s 7ms/step - loss: 0.2169 - accuracy: 0.9236 - val_loss: 0.3524 - val_accuracy: 0.9064\n",
      "Epoch 32/50\n",
      "6000/6000 [==============================] - 41s 7ms/step - loss: 0.2149 - accuracy: 0.9235 - val_loss: 0.3243 - val_accuracy: 0.8981\n",
      "Epoch 33/50\n",
      "6000/6000 [==============================] - 40s 7ms/step - loss: 0.2157 - accuracy: 0.9243 - val_loss: 0.3132 - val_accuracy: 0.9133\n",
      "Epoch 34/50\n",
      "6000/6000 [==============================] - 40s 7ms/step - loss: 0.2146 - accuracy: 0.9227 - val_loss: 0.3229 - val_accuracy: 0.9047\n",
      "Epoch 35/50\n",
      "6000/6000 [==============================] - 41s 7ms/step - loss: 0.2156 - accuracy: 0.9240 - val_loss: 0.3596 - val_accuracy: 0.9105\n",
      "Epoch 36/50\n",
      "6000/6000 [==============================] - 40s 7ms/step - loss: 0.2205 - accuracy: 0.9238 - val_loss: 0.3832 - val_accuracy: 0.9029\n",
      "Epoch 37/50\n",
      "6000/6000 [==============================] - 40s 7ms/step - loss: 0.2208 - accuracy: 0.9227 - val_loss: 0.4160 - val_accuracy: 0.9087\n",
      "Epoch 38/50\n",
      "6000/6000 [==============================] - 42s 7ms/step - loss: 0.2175 - accuracy: 0.9243 - val_loss: 0.3415 - val_accuracy: 0.9096\n",
      "Epoch 39/50\n",
      "6000/6000 [==============================] - 41s 7ms/step - loss: 0.2181 - accuracy: 0.9232 - val_loss: 0.2996 - val_accuracy: 0.9057\n",
      "Epoch 40/50\n",
      "6000/6000 [==============================] - 41s 7ms/step - loss: 0.2184 - accuracy: 0.9228 - val_loss: 0.3327 - val_accuracy: 0.9086\n",
      "Epoch 41/50\n",
      "6000/6000 [==============================] - 41s 7ms/step - loss: 0.2168 - accuracy: 0.9231 - val_loss: 0.3151 - val_accuracy: 0.9132\n",
      "Epoch 42/50\n",
      "6000/6000 [==============================] - 40s 7ms/step - loss: 0.2175 - accuracy: 0.9239 - val_loss: 0.3209 - val_accuracy: 0.9057\n",
      "Epoch 43/50\n",
      "6000/6000 [==============================] - 40s 7ms/step - loss: 0.2126 - accuracy: 0.9250 - val_loss: 0.3216 - val_accuracy: 0.9066\n",
      "Epoch 44/50\n",
      "6000/6000 [==============================] - 40s 7ms/step - loss: 0.2153 - accuracy: 0.9249 - val_loss: 0.3496 - val_accuracy: 0.9060\n",
      "Epoch 45/50\n",
      "6000/6000 [==============================] - 40s 7ms/step - loss: 0.2146 - accuracy: 0.9254 - val_loss: 0.3784 - val_accuracy: 0.9100\n",
      "Epoch 46/50\n",
      "6000/6000 [==============================] - 40s 7ms/step - loss: 0.2187 - accuracy: 0.9224 - val_loss: 0.2990 - val_accuracy: 0.9102\n",
      "Epoch 47/50\n",
      "6000/6000 [==============================] - 40s 7ms/step - loss: 0.2202 - accuracy: 0.9219 - val_loss: 0.3013 - val_accuracy: 0.9039\n",
      "Epoch 48/50\n",
      "6000/6000 [==============================] - 40s 7ms/step - loss: 0.2192 - accuracy: 0.9238 - val_loss: 0.3049 - val_accuracy: 0.9062\n",
      "Epoch 49/50\n",
      "6000/6000 [==============================] - 41s 7ms/step - loss: 0.2175 - accuracy: 0.9233 - val_loss: 0.3287 - val_accuracy: 0.9080\n",
      "Epoch 50/50\n",
      "6000/6000 [==============================] - 41s 7ms/step - loss: 0.2258 - accuracy: 0.9210 - val_loss: 0.3212 - val_accuracy: 0.9107\n",
      "2086.0132422447205\n"
     ]
    }
   ],
   "source": [
    "import time\n",
    "start_time = time.time()\n",
    "\n",
    "history = model.fit(x_train, y_train,\n",
    "          batch_size=batch_size,\n",
    "          epochs=n_epochs,          # nº de veces q se repite el entrenam.\n",
    "          verbose=1,\n",
    "          validation_data=(x_test, y_test))\n",
    "\n",
    "training_time = time.time() - start_time\n",
    "print(training_time)\n"
   ]
  },
  {
   "cell_type": "markdown",
   "id": "massive-reference",
   "metadata": {},
   "source": [
    "Una vez entrenado el modelo, vamos a probarlo con el conjunto de test"
   ]
  },
  {
   "cell_type": "code",
   "execution_count": 24,
   "id": "regulated-farmer",
   "metadata": {},
   "outputs": [
    {
     "name": "stdout",
     "output_type": "stream",
     "text": [
      "Test loss: 0.32124078273773193\n",
      "Test accuracy: 0.9107000231742859\n"
     ]
    }
   ],
   "source": [
    "score = model.evaluate(x_test, y_test, verbose=0)\n",
    "print('Test loss:', score[0])\n",
    "print('Test accuracy:', score[1])"
   ]
  },
  {
   "cell_type": "code",
   "execution_count": 25,
   "id": "difficult-causing",
   "metadata": {},
   "outputs": [
    {
     "data": {
      "image/png": "[encoded data removed]",
      "text/plain": [
       "<Figure size 720x720 with 1 Axes>"
      ]
     },
     "metadata": {
      "needs_background": "light"
     },
     "output_type": "display_data"
    }
   ],
   "source": [
    "fig_acc = plt.figure(figsize=(10, 10))\n",
    "plt.plot(history.history['accuracy'])\n",
    "plt.plot(history.history['val_accuracy'])\n",
    "plt.title('model accuracy')\n",
    "plt.ylabel('accuracy')\n",
    "plt.xlabel('epoch')\n",
    "plt.legend(['train', 'test'], loc='upper left')\n",
    "plt.show()"
   ]
  }
 ],
 "metadata": {
  "kernelspec": {
   "display_name": "Python 3",
   "language": "python",
   "name": "python3"
  },
  "language_info": {
   "codemirror_mode": {
    "name": "ipython",
    "version": 3
   },
   "file_extension": ".py",
   "mimetype": "text/x-python",
   "name": "python",
   "nbconvert_exporter": "python",
   "pygments_lexer": "ipython3",
   "version": "3.8.5"
  }
 },
 "nbformat": 4,
 "nbformat_minor": 5
}
